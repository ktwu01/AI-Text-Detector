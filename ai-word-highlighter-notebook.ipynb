{
 "cells": [
  {
   "cell_type": "markdown",
   "metadata": {},
   "source": [
    "# AI Word Highlighter - Jupyter Notebook Example\n",
    "\n",
    "This notebook demonstrates how to use the SimpleAIWordHighlighter to identify common AI-generated words and phrases in text."
   ]
  },
  {
   "cell_type": "code",
   "execution_count": null,
   "metadata": {},
   "source": [
    "# Import the SimpleAIWordHighlighter class\n",
    "from simple_ai_word_highlighter import SimpleAIWordHighlighter\n",
    "\n",
    "# Import additional libraries for visualization\n",
    "import pandas as pd\n",
    "import matplotlib.pyplot as plt\n",
    "import seaborn as sns\n",
    "from IPython.display import Markdown, display"
   ]
  },
  {
   "cell_type": "markdown",
   "metadata": {},
   "source": [
    "## Initialize the Highlighter\n",
    "\n",
    "First, let's create an instance of the SimpleAIWordHighlighter class."
   ]
  },
  {
   "cell_type": "code",
   "execution_count": null,
   "metadata": {},
   "source": [
    "highlighter = SimpleAIWordHighlighter()"
   ]
  },
  {
   "cell_type": "markdown",
   "metadata": {},
   "source": [
    "## Sample Text for Analysis\n",
    "\n",
    "Let's create two text samples for comparison - one that was AI-generated and one that was human-written."
   ]
  },
  {
   "cell_type": "code",
   "execution_count": null,
   "metadata": {},
   "source": [
    "# Sample AI-generated text\n",
    "ai_text = \"\"\"\n",
    "In this article, we will delve into the fascinating realm of artificial intelligence and its implications for modern content creation. \n",
    "It's important to note that AI technology has evolved significantly over the past decade, transforming the landscape of digital marketing and content strategy.\n",
    "\n",
    "When it comes to SEO, a plethora of techniques have been developed to enhance website visibility. \n",
    "Indeed, the field has witnessed a paradigm shift, with machine learning algorithms playing a crucial role in determining search rankings.\n",
    "\n",
    "Furthermore, content creators must navigate the ethical considerations that arise from utilizing AI-generated text. \n",
    "On the other hand, the benefits of leveraging AI tools cannot be overstated, as they provide unprecedented efficiency and scalability.\n",
    "\n",
    "In conclusion, as we have seen, the journey of integrating AI into content strategy is both challenging and rewarding. \n",
    "To summarize, businesses that harness the power of this technology responsibly will likely gain a competitive edge in the digital landscape.\n",
    "\"\"\"\n",
    "\n",
    "# Sample human-written text on the same topic\n",
    "human_text = \"\"\"\n",
    "AI is changing how we create online content. Over the last ten years, new tools have made it easier to write blog posts, ads, and social media updates. These changes affect how websites rank in Google searches.\n",
    "\n",
    "SEO experts now use many different methods to improve website rankings. Machine learning has changed how search engines decide which sites to show first. This means writers need to update their strategies.\n",
    "\n",
    "There are some ethical questions about using AI to write content. Is it okay to publish an article written mostly by a computer? But AI tools do make work faster and help small teams do more.\n",
    "\n",
    "Companies that learn to use AI tools well will probably do better than their competitors. However, human creativity and oversight still matter. The best approach combines AI efficiency with human judgment.\n",
    "\"\"\""
   ]
  },
  {
   "cell_type": "markdown",
   "metadata": {},
   "source": [
    "## Analyze the AI-Generated Text\n",
    "\n",
    "Now let's analyze the AI-generated text to identify common AI patterns."
   ]
  },
  {
   "cell_type": "code",
   "execution_count": null,
   "metadata": {},
   "source": [
    "# Highlight and analyze the AI-generated text\n",
    "ai_highlighted_text, _ = highlighter.highlight_text(ai_text)\n",
    "ai_results = highlighter.analyze_text(ai_text)\n",
    "\n",
    "# Display the highlighted text (words and phrases used by AI will be in bold)\n",
    "display(Markdown(\"### Highlighted AI-Generated Text\"))\n",
    "display(Markdown(ai_highlighted_text))"
   ]
  },
  {
   "cell_type": "code",
   "execution_count": null,
   "metadata": {},
   "source": [
    "# Display analysis results\n",
    "display(Markdown(\"### AI Text Analysis Results\"))\n",
    "print(f\"Total Words: {ai_results['total_words']}\")\n",
    "print(f\"Unique Words: {ai_results['unique_words']}\")\n",
    "print(f\"AI Markers Found: {ai_results['ai_markers']}\")\n",
    "print(f\"AI Word Percentage: {ai_results['ai_word_percentage']:.2f}%\")"
   ]
  },
  {
   "cell_type": "code",
   "execution_count": null,
   "metadata": {},
   "source": [
    "# Visualize the most common AI words and phrases found in the AI text\n",
    "display(Markdown(\"### Top AI Words Found\"))\n",
    "if ai_results['word_counts']:\n",
    "    word_counts = pd.DataFrame({\n",
    "        'Word': list(ai_results['word_counts'].keys()),\n",
    "        'Count': list(ai_results['word_counts'].values())\n",
    "    }).sort_values('Count', ascending=False)\n",
    "    \n",
    "    plt.figure(figsize=(10, 6))\n",
    "    sns.barplot(x='Count', y='Word', data=word_counts.head(10))\n",
    "    plt.title('Top AI Words Detected')\n",
    "    plt.tight_layout()\n",
    "    plt.show()\n",
    "else:\n",
    "    print(\"No AI words detected.\")"
   ]
  },
  {
   "cell_type": "code",
   "execution_count": null,
   "metadata": {},
   "source": [
    "display(Markdown(\"### Top AI Phrases Found\"))\n",
    "if ai_results['phrase_counts']:\n",
    "    phrase_counts = pd.DataFrame({\n",
    "        'Phrase': list(ai_results['phrase_counts'].keys()),\n",
    "        'Count': list(ai_results['phrase_counts'].values())\n",
    "    }).sort_values('Count', ascending=False)\n",
    "    \n",
    "    plt.figure(figsize=(10, 6))\n",
    "    sns.barplot(x='Count', y='Phrase', data=phrase_counts.head(10))\n",
    "    plt.title('Top AI Phrases Detected')\n",
    "    plt.tight_layout()\n",
    "    plt.show()\n",
    "else:\n",
    "    print(\"No AI phrases detected.\")"
   ]
  },
  {
   "cell_type": "markdown",
   "metadata": {},
   "source": [
    "## Analyze the Human-Written Text\n",
    "\n",
    "For comparison, let's analyze the human-written text."
   ]
  },
  {
   "cell_type": "code",
   "execution_count": null,
   "metadata": {},
   "source": [
    "# Highlight and analyze the human-written text\n",
    "human_highlighted_text, _ = highlighter.highlight_text(human_text)\n",
    "human_results = highlighter.analyze_text(human_text)\n",
    "\n",
    "# Display the highlighted text\n",
    "display(Markdown(\"### Highlighted Human-Written Text\"))\n",
    "display(Markdown(human_highlighted_text))"
   ]
  },
  {
   "cell_type": "code",
   "execution_count": null,
   "metadata": {},
   "source": [
    "# Display analysis results\n",
    "display(Markdown(\"### Human Text Analysis Results\"))\n",
    "print(f\"Total Words: {human_results['total_words']}\")\n",
    "print(f\"Unique Words: {human_results['unique_words']}\")\n",
    "print(f\"AI Markers Found: {human_results['ai_markers']}\")\n",
    "print(f\"AI Word Percentage: {human_results['ai_word_percentage']:.2f}%\")"
   ]
  },
  {
   "cell_type": "markdown",
   "metadata": {},
   "source": [
    "## Compare the Results\n",
    "\n",
    "Now let's compare the AI and human text analysis results side by side."
   ]
  },
  {
   "cell_type": "code",
   "execution_count": null,
   "metadata": {},
   "source": [
    "# Create comparison dataframe\n",
    "comparison_data = {\n",
    "    'Metric': ['Total Words', 'Unique Words', 'AI Markers', 'AI Word Percentage'],\n",
    "    'AI Text': [\n",
    "        ai_results['total_words'],\n",
    "        ai_results['unique_words'],\n",
    "        ai_results['ai_markers'],\n",
    "        f\"{ai_results['ai_word_percentage']:.2f}%\"\n",
    "    ],\n",
    "    'Human Text': [\n",
    "        human_results['total_words'],\n",
    "        human_results['unique_words'],\n",
    "        human_results['ai_markers'],\n",
    "        f\"{human_results['ai_word_percentage']:.2f}%\"\n",
    "    ]\n",
    "}\n",
    "\n",
    "comparison_df = pd.DataFrame(comparison_data)\n",
    "display(comparison_df)"
   ]
  },
  {
   "cell_type": "code",
   "execution_count": null,
   "metadata": {},
   "source": [
    "# Visualize AI markers comparison\n",
    "metrics = ['AI Markers', 'AI Word Percentage']\n",
    "ai_values = [ai_results['ai_markers'], ai_results['ai_word_percentage']]\n",
    "human_values = [human_results['ai_markers'], human_results['ai_word_percentage']]\n",
    "\n",
    "plt.figure(figsize=(12, 6))\n",
    "\n",
    "x = range(len(metrics))\n",
    "width = 0.35\n",
    "\n",
    "plt.bar([i - width/2 for i in x], ai_values, width, label='AI Text')\n",
    "plt.bar([i + width/2 for i in x], human_values, width, label='Human Text')\n",
    "\n",
    "plt.xlabel('Metrics')\n",
    "plt.ylabel('Values')\n",
    "plt.title('AI vs Human Text Comparison')\n",
    "plt.xticks(x, metrics)\n",
    "plt.legend()\n",
    "\n",
    "plt.tight_layout()\n",
    "plt.show()"
   ]
  },
  {
   "cell_type": "markdown",
   "metadata": {},
   "source": [
    "## Add Custom Words and Phrases\n",
    "\n",
    "You can extend the highlighter by adding your own custom AI words and phrases."
   ]
  },
  {
   "cell_type": "code",
   "execution_count": null,
   "metadata": {},
   "source": [
    "# Add custom words\n",
    "highlighter.add_word(\"unprecedented\", frequency=8)\n",
    "highlighter.add_word(\"effortlessly\", frequency=7)\n",
    "highlighter.add_word(\"seamlessly\", frequency=7)\n",
    "\n",
    "# Add custom phrases\n",
    "highlighter.add_phrase(\"it is essential to\", frequency=9)\n",
    "highlighter.add_phrase(\"a game-changer\", frequency=8)\n",
    "highlighter.add_phrase(\"at the end of the day\", frequency=7)\n",
    "\n",
    "print(\"Custom words and phrases added to the highlighter.\")"
   ]
  },
  {
   "cell_type": "markdown",
   "metadata": {},
   "source": [
    "## Export and Import Word Lists\n",
    "\n",
    "You can export your word and phrase lists to CSV files and import them later or share them with others."
   ]
  },
  {
   "cell_type": "code",
   "execution_count": null,
   "metadata": {},
   "source": [
    "# Export words and phrases to CSV\n",
    "highlighter.export_words_to_csv(\"ai_words.csv\")\n",
    "highlighter.export_phrases_to_csv(\"ai_phrases.csv\")\n",
    "\n",
    "print(\"Words and phrases exported to CSV files.\")"
   ]
  },
  {
   "cell_type": "code",
   "execution_count": null,
   "metadata": {},
   "source": [
    "# Create a new highlighter and import the words and phrases\n",
    "new_highlighter = SimpleAIWordHighlighter()\n",
    "success, message = new_highlighter.import_words_from_csv(\"ai_words.csv\")\n",
    "print(message)\n",
    "\n",
    "success, message = new_highlighter.import_phrases_from_csv(\"ai_phrases.csv\")\n",
    "print(message)"
   ]
  },
  {
   "cell_type": "markdown",
   "metadata": {},
   "source": [
    "## Practical Use Case: Improving an AI-Generated Text\n",
    "\n",
    "Now let's see how you can use this highlighter to improve an AI-generated text."
   ]
  },
  {
   "cell_type": "code",
   "execution_count": null,
   "metadata": {},
   "source": [
    "# Create a new text to improve\n",
    "text_to_improve = \"\"\"\n",
    "In this article, we will delve into the fascinating realm of cryptocurrency and its implications for modern finance. \n",
    "It's important to note that blockchain technology has evolved significantly over the past decade, transforming the landscape of digital transactions.\n",
    "\n",
    "When it comes to Bitcoin, a plethora of factors influence its market value. \n",
    "Indeed, the cryptocurrency space has witnessed a paradigm shift, with decentralized finance playing a crucial role in reshaping traditional banking models.\n",
    "\"\"\"\n",
    "\n",
    "# Analyze and highlight the text\n",
    "highlighted, found_items = highlighter.highlight_text(text_to_improve)\n",
    "results = highlighter.analyze_text(text_to_improve)\n",
    "\n",
    "# Display the highlighted text\n",
    "display(Markdown(\"### Text to Improve (AI Markers Highlighted)\"))\n",
    "display(Markdown(highlighted))"
   ]
  },
  {
   "cell_type": "code",
   "execution_count": null,
   "metadata": {},
   "source": [
    "# Create a dictionary of words and phrases to replace\n",
    "replacements = {\n",
    "    \"delve into\": \"explore\",\n",
    "    \"fascinating realm\": \"interesting world\",\n",
    "    \"it's important to note\": \"notably\",\n",
    "    \"when it comes to\": \"regarding\",\n",
    "    \"plethora\": \"variety\",\n",
    "    \"indeed\": \"certainly\",\n",
    "    \"witnessed\": \"seen\",\n",
    "    \"paradigm shift\": \"major change\",\n",
    "    \"crucial role\": \"key part\"\n",
    "}\n",
    "\n",
    "# Function to replace words and phrases in text\n",
    "def replace_ai_markers(text, replacements):\n",
    "    improved_text = text\n",
    "    for old, new in replacements.items():\n",
    "        improved_text = improved_text.replace(old, new)\n",
    "    return improved_text\n",
    "\n",
    "# Improve the text\n",
    "improved_text = replace_ai_markers(text_to_improve, replacements)\n",
    "\n",
    "# Analyze the improved text\n",
    "improved_highlighted, _ = highlighter.highlight_text(improved_text)\n",
    "improved_results = highlighter.analyze_text(improved_text)\n",
    "\n",
    "# Display the improved text\n",
    "display(Markdown(\"### Improved Text (AI Markers Highlighted)\"))\n",
    "display(Markdown(improved_highlighted))"
   ]
  },
  {
   "cell_type": "code",
   "execution_count": null,
   "metadata": {},
   "source": [
    "# Compare the original and improved texts\n",
    "comparison_data = {\n",
    "    'Metric': ['Total Words', 'AI Markers', 'AI Word Percentage'],\n",
    "    'Original Text': [\n",
    "        results['total_words'],\n",
    "        results['ai_markers'],\n",
    "        f\"{results['ai_word_percentage']:.2f}%\"\n",
    "    ],\n",
    "    'Improved Text': [\n",
    "        improved_results['total_words'],\n",
    "        improved_results['ai_markers'],\n",
    "        f\"{improved_results['ai_word_percentage']:.2f}%\"\n",
    "    ]\n",
    "}\n",
    "\n",
    "comparison_df = pd.DataFrame(comparison_data)\n",
    "display(comparison_df)"
   ]
  },
  {
   "cell_type": "markdown",
   "metadata": {},
   "source": [
    "## Conclusion\n",
    "\n",
    "This notebook has demonstrated how to use the SimpleAIWordHighlighter to:\n",
    "\n",
    "1. Identify common AI-generated words and phrases in text\n",
    "2. Compare AI-generated and human-written content\n",
    "3. Add custom AI markers to the database\n",
    "4. Export and import word and phrase lists\n",
    "5. Improve AI-generated text by replacing common AI markers\n",
    "\n",
    "By using this tool, you can make your AI-generated content appear more human-written and potentially improve its performance in contexts where AI detection might be a concern, such as SEO optimization or academic submissions."
   ]
  }
 ],
 "metadata": {
  "kernelspec": {
   "display_name": "Python 3",
   "language": "python",
   "name": "python3"
  },
  "language_info": {
   "codemirror_mode": {
    "name": "ipython",
    "version": 3
   },
   "file_extension": ".py",
   "mimetype": "text/x-python",
   "name": "python",
   "nbconvert_exporter": "python",
   "pygments_lexer": "ipython3",
   "version": "3.8.10"
  }
 },
 "nbformat": 4,
 "nbformat_minor": 4
}